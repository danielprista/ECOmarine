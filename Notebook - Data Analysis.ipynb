{
    "metadata": {
        "kernelspec": {
            "name": "SQL",
            "display_name": "SQL",
            "language": "sql"
        },
        "language_info": {
            "name": "sql",
            "version": ""
        }
    },
    "nbformat_minor": 2,
    "nbformat": 4,
    "cells": [
        {
            "cell_type": "markdown",
            "source": [
                "<center><img src=\"https://raw.githubusercontent.com/danielprista/ECOmarine/main/ECO%20-%20marine%202.png\" width=\"200\" height=\"200\"></center>\r\n",
                ""
            ],
            "metadata": {
                "language": "sql",
                "azdata_cell_guid": "d53d3572-347b-41ab-a009-79f33e00c4bf"
            },
            "attachments": {}
        },
        {
            "cell_type": "markdown",
            "source": [
                "# Analyzing Data of a small company with SQL"
            ],
            "metadata": {
                "language": "sql",
                "azdata_cell_guid": "a4122d47-99d9-4d4e-991b-8a9cc8da329a"
            },
            "attachments": {}
        },
        {
            "cell_type": "markdown",
            "source": [
                "<span style=\"background: transparent; margin-top: 0pt; margin-bottom: 0pt;\" data-preserver-spaces=\"true\">In this notebook we will analyze data from a Maritime Waste Management company using SQL. This data is divided in 6 tables:</span>\n",
                "\n",
                "1. <span style=\"background: transparent; margin-top: 0pt; margin-bottom: 0pt;\" data-preserver-spaces=\"true\">waste_generation: Provides information for each waste collection operation such as origin (the ship which generated the waste), date, quantity of waste and the MTR number (a document necessary for waste transportation in Brazil).</span>\n",
                "2. <span style=\"background: transparent; margin-top: 0pt; margin-bottom: 0pt;\" data-preserver-spaces=\"true\">waste_types: Shows all types of waste this company works with, along with if their class (I for hazardous waste, II for non-hazardous).</span>\n",
                "3. <span style=\"background: transparent; margin-top: 0pt; margin-bottom: 0pt;\" data-preserver-spaces=\"true\">units: Those are the ships the company attends. It also shows the company who owns the vessel and the type of ship.</span>\n",
                "4. <span style=\"background: transparent; margin-top: 0pt; margin-bottom: 0pt;\" data-preserver-spaces=\"true\">clients: Provides information about the company's clients, with their industries and date of the start of the contract.</span>\n",
                "5. <span style=\"background: transparent; margin-top: 0pt; margin-bottom: 0pt;\" data-preserver-spaces=\"true\">destinations: Shows every destination operation (transporting the waste from the company's yard to a receptor such as a recycler). It contains the type of waste, the transport's date, the quantity and the receptor.</span>\n",
                "6. <span style=\"background: transparent; margin-top: 0pt; margin-bottom: 0pt;\" data-preserver-spaces=\"true\">receptors: It shows the information about all receptors the company works with, and includes the number of their Environmental Operational License.</span>\n",
                "\n",
                "  \n",
                "\n",
                "In the code below, we can see how these tables were created."
            ],
            "metadata": {
                "language": "sql",
                "azdata_cell_guid": "eb2d07ba-aba4-49c9-a8a8-93eb27b3884f"
            },
            "attachments": {}
        },
        {
            "cell_type": "code",
            "source": [
                "CREATE TABLE waste_generation (\r\n",
                "    origin CHAR(5) NOT NULL,\r\n",
                "    op_date DATE,\r\n",
                "    quantity INTEGER,\r\n",
                "    mtr VARCHAR NOT NULL\r\n",
                "    PRIMARY KEY (mtr)\r\n",
                ");\r\n",
                "CREATE TABLE waste_types (\r\n",
                "    id CHAR(5) NOT NULL,\r\n",
                "    waste_type VARCHAR,\r\n",
                "    class VARCHAR,\r\n",
                "    PRIMARY KEY (id)\r\n",
                ");\r\n",
                "CREATE TABLE units (\r\n",
                "    id CHAR(5) NOT NULL,\r\n",
                "    name VARCHAR,\r\n",
                "    ship_type VARCHAR,\r\n",
                "    owner_id CHAR(5),\r\n",
                "    PRIMARY KEY (id)\r\n",
                ");\r\n",
                "CREATE TABLE clients (\r\n",
                "    id CHAR(5) NOT NULL,\r\n",
                "    name VARCHAR,\r\n",
                "    industry VARCHAR,\r\n",
                "    contract_started DATE\r\n",
                "    PRIMARY KEY (id)\r\n",
                ");\r\n",
                "CREATE TABLE destinations (\r\n",
                "    mtr VARCHAR NOT NULL,\r\n",
                "    waste CHAR(5),\r\n",
                "    quantity INTEGER,\r\n",
                "    dest_date DATE,\r\n",
                "    receptor CHAR(5),\r\n",
                "    PRIMARY KEY (mtr)\r\n",
                ");\r\n",
                "CREATE TABLE receptors (\r\n",
                "    id CHAR(5) NOT NULL,\r\n",
                "    name VARCHAR,\r\n",
                "    license CHAR(5),\r\n",
                "    PRIMARY KEY (id)\r\n",
                ");"
            ],
            "metadata": {
                "azdata_cell_guid": "c9beb4d2-e6ed-4b36-8ad6-66980b79a958",
                "language": "sql"
            },
            "outputs": [],
            "execution_count": null
        },
        {
            "cell_type": "markdown",
            "source": [
                "Next, we load the data from CSV files into the database.\n",
                "\n",
                "**NOTICE:** All data wee see in this notebook is fictional.\n",
                "\n",
                "Let's take a look at our data. In the code below, we query the first 100 operations, with: Name of ship, its owner, the date, the type of waste, the quantity and the MTR number."
            ],
            "metadata": {
                "language": "sql",
                "azdata_cell_guid": "60875039-b105-4d00-b541-ca9cc9d13355"
            },
            "attachments": {}
        },
        {
            "cell_type": "code",
            "source": [
                "SELECT TOP 100 dbo.units.name, dbo.clients.name,dbo.waste_generation.date ,dbo.waste_types.type_of_waste, dbo.waste_generation.quantity_kg, dbo.waste_generation.MTR \r\n",
                "FROM dbo.waste_generation\r\n",
                "JOIN dbo.units ON dbo.waste_generation.origin=dbo.units.id\r\n",
                "JOIN dbo.clients ON dbo.units.owner_id = dbo.clients.id\r\n",
                "JOIN dbo.waste_types ON dbo.waste_generation.waste = dbo.waste_types.codes\r\n",
                "ORDER BY dbo.waste_generation.date;"
            ],
            "metadata": {
                "azdata_cell_guid": "1b47ba8a-676c-4b83-a900-2f84d1e41f3e",
                "language": "sql"
            },
            "outputs": [
                {
                    "output_type": "display_data",
                    "data": {
                        "text/html": "(100 rows affected)"
                    },
                    "metadata": {}
                },
                {
                    "output_type": "display_data",
                    "data": {
                        "text/html": "Total execution time: 00:00:00.138"
                    },
                    "metadata": {}
                },
                {
                    "output_type": "execute_result",
                    "metadata": {},
                    "execution_count": 1,
                    "data": {
                        "application/vnd.dataresource+json": {
                            "schema": {
                                "fields": [
                                    {
                                        "name": "name"
                                    },
                                    {
                                        "name": "name"
                                    },
                                    {
                                        "name": "date"
                                    },
                                    {
                                        "name": "type_of_waste"
                                    },
                                    {
                                        "name": "quantity_kg"
                                    },
                                    {
                                        "name": "MTR"
                                    }
                                ]
                            },
                            "data": [
                                {
                                    "name": "Omni Offshore",
                                    "date": "2022-01-02",
                                    "type_of_waste": "Paper",
                                    "quantity_kg": "27",
                                    "MTR": "57551"
                                },
                                {
                                    "name": "Contoso Shipping",
                                    "date": "2022-01-05",
                                    "type_of_waste": "Contaminated General Waste",
                                    "quantity_kg": "518",
                                    "MTR": "57592"
                                },
                                {
                                    "name": "Cyberdyne Systems",
                                    "date": "2022-01-06",
                                    "type_of_waste": "TetraPak Package",
                                    "quantity_kg": "9",
                                    "MTR": "57612"
                                },
                                {
                                    "name": "Omni Offshore",
                                    "date": "2022-01-07",
                                    "type_of_waste": "Contaminated Metal Drums",
                                    "quantity_kg": "68",
                                    "MTR": "57661"
                                },
                                {
                                    "name": "Cyberdyne Systems",
                                    "date": "2022-01-07",
                                    "type_of_waste": "Waste Oil",
                                    "quantity_kg": "5716",
                                    "MTR": "57671"
                                },
                                {
                                    "name": "Omni Offshore",
                                    "date": "2022-01-08",
                                    "type_of_waste": "Oily Water",
                                    "quantity_kg": "18748",
                                    "MTR": "57698"
                                },
                                {
                                    "name": "Contoso Shipping",
                                    "date": "2022-01-08",
                                    "type_of_waste": "Organic Waste",
                                    "quantity_kg": "230",
                                    "MTR": "57712"
                                },
                                {
                                    "name": "Contoso Shipping",
                                    "date": "2022-01-09",
                                    "type_of_waste": "Kitchen Oil",
                                    "quantity_kg": "10",
                                    "MTR": "57755"
                                },
                                {
                                    "name": "Omni Offshore",
                                    "date": "2022-01-10",
                                    "type_of_waste": "Batteries",
                                    "quantity_kg": "11",
                                    "MTR": "57756"
                                },
                                {
                                    "name": "Weyland-Yutani Offshore",
                                    "date": "2022-01-11",
                                    "type_of_waste": "Waste Oil",
                                    "quantity_kg": "5122",
                                    "MTR": "57819"
                                },
                                {
                                    "name": "Cyberdyne Systems",
                                    "date": "2022-01-11",
                                    "type_of_waste": "Plastic",
                                    "quantity_kg": "61",
                                    "MTR": "57828"
                                },
                                {
                                    "name": "Brightstar Cruise Lines",
                                    "date": "2022-01-12",
                                    "type_of_waste": "TetraPak Package",
                                    "quantity_kg": "2",
                                    "MTR": "57831"
                                },
                                {
                                    "name": "Contoso Shipping",
                                    "date": "2022-01-12",
                                    "type_of_waste": "Metal",
                                    "quantity_kg": "109",
                                    "MTR": "57841"
                                },
                                {
                                    "name": "Weyland-Yutani Offshore",
                                    "date": "2022-01-13",
                                    "type_of_waste": "Construction Waste",
                                    "quantity_kg": "65",
                                    "MTR": "57871"
                                },
                                {
                                    "name": "Omni Offshore",
                                    "date": "2022-01-13",
                                    "type_of_waste": "Batteries",
                                    "quantity_kg": "48",
                                    "MTR": "57891"
                                },
                                {
                                    "name": "Cyberdyne Systems",
                                    "date": "2022-01-13",
                                    "type_of_waste": "Paper",
                                    "quantity_kg": "39",
                                    "MTR": "57893"
                                },
                                {
                                    "name": "Weyland-Yutani Offshore",
                                    "date": "2022-01-14",
                                    "type_of_waste": "Contaminated General Waste",
                                    "quantity_kg": "247",
                                    "MTR": "57912"
                                },
                                {
                                    "name": "Weyland-Yutani Offshore",
                                    "date": "2022-01-14",
                                    "type_of_waste": "Contaminated General Waste",
                                    "quantity_kg": "500",
                                    "MTR": "57928"
                                },
                                {
                                    "name": "Contoso Shipping",
                                    "date": "2022-01-14",
                                    "type_of_waste": "Paper",
                                    "quantity_kg": "5",
                                    "MTR": "57932"
                                },
                                {
                                    "name": "Kamelot Shipping",
                                    "date": "2022-01-15",
                                    "type_of_waste": "Plastic",
                                    "quantity_kg": "69",
                                    "MTR": "57958"
                                },
                                {
                                    "name": "Contoso Shipping",
                                    "date": "2022-01-15",
                                    "type_of_waste": "Paper",
                                    "quantity_kg": "50",
                                    "MTR": "57969"
                                },
                                {
                                    "name": "Kamelot Shipping",
                                    "date": "2022-01-16",
                                    "type_of_waste": "Kitchen Oil",
                                    "quantity_kg": "20",
                                    "MTR": "57988"
                                },
                                {
                                    "name": "Kamelot Shipping",
                                    "date": "2022-01-16",
                                    "type_of_waste": "Contaminated General Waste",
                                    "quantity_kg": "86",
                                    "MTR": "57990"
                                },
                                {
                                    "name": "Weyland-Yutani Offshore",
                                    "date": "2022-01-17",
                                    "type_of_waste": "Sewage",
                                    "quantity_kg": "837",
                                    "MTR": "58000"
                                },
                                {
                                    "name": "Weyland-Yutani Offshore",
                                    "date": "2022-01-17",
                                    "type_of_waste": "Paper",
                                    "quantity_kg": "82",
                                    "MTR": "58001"
                                },
                                {
                                    "name": "Cyberdyne Systems",
                                    "date": "2022-01-17",
                                    "type_of_waste": "Metal",
                                    "quantity_kg": "44",
                                    "MTR": "58018"
                                },
                                {
                                    "name": "Contoso Shipping",
                                    "date": "2022-01-17",
                                    "type_of_waste": "Organic Waste",
                                    "quantity_kg": "225",
                                    "MTR": "58046"
                                },
                                {
                                    "name": "Weyland-Yutani Offshore",
                                    "date": "2022-01-18",
                                    "type_of_waste": "Paper",
                                    "quantity_kg": "97",
                                    "MTR": "58089"
                                },
                                {
                                    "name": "Omni Offshore",
                                    "date": "2022-01-18",
                                    "type_of_waste": "Batteries",
                                    "quantity_kg": "48",
                                    "MTR": "58101"
                                },
                                {
                                    "name": "Umbrella Corp",
                                    "date": "2022-01-19",
                                    "type_of_waste": "Sewage",
                                    "quantity_kg": "8390",
                                    "MTR": "58109"
                                },
                                {
                                    "name": "Contoso Shipping",
                                    "date": "2022-01-19",
                                    "type_of_waste": "Glass",
                                    "quantity_kg": "36",
                                    "MTR": "58126"
                                },
                                {
                                    "name": "Contoso Shipping",
                                    "date": "2022-01-19",
                                    "type_of_waste": "Plastic",
                                    "quantity_kg": "95",
                                    "MTR": "58139"
                                },
                                {
                                    "name": "Contoso Shipping",
                                    "date": "2022-01-20",
                                    "type_of_waste": "Glass",
                                    "quantity_kg": "34",
                                    "MTR": "58141"
                                },
                                {
                                    "name": "Cyberdyne Systems",
                                    "date": "2022-01-20",
                                    "type_of_waste": "Plastic",
                                    "quantity_kg": "37",
                                    "MTR": "58163"
                                },
                                {
                                    "name": "Brightstar Cruise Lines",
                                    "date": "2022-01-21",
                                    "type_of_waste": "Non-Recyclable Waste ",
                                    "quantity_kg": "503",
                                    "MTR": "58192"
                                },
                                {
                                    "name": "Cyberdyne Systems",
                                    "date": "2022-01-21",
                                    "type_of_waste": "Contaminated General Waste",
                                    "quantity_kg": "144",
                                    "MTR": "58204"
                                },
                                {
                                    "name": "Contoso Shipping",
                                    "date": "2022-01-21",
                                    "type_of_waste": "Non-Recyclable Waste ",
                                    "quantity_kg": "343",
                                    "MTR": "58208"
                                },
                                {
                                    "name": "Weyland-Yutani Offshore",
                                    "date": "2022-01-22",
                                    "type_of_waste": "Non-Recyclable Waste ",
                                    "quantity_kg": "612",
                                    "MTR": "58245"
                                },
                                {
                                    "name": "Weyland-Yutani Offshore",
                                    "date": "2022-01-23",
                                    "type_of_waste": "Paper",
                                    "quantity_kg": "21",
                                    "MTR": "58258"
                                },
                                {
                                    "name": "Brightstar Cruise Lines",
                                    "date": "2022-01-23",
                                    "type_of_waste": "Contaminated General Waste",
                                    "quantity_kg": "369",
                                    "MTR": "58277"
                                },
                                {
                                    "name": "Kamelot Shipping",
                                    "date": "2022-01-23",
                                    "type_of_waste": "Plastic",
                                    "quantity_kg": "11",
                                    "MTR": "58305"
                                },
                                {
                                    "name": "Contoso Shipping",
                                    "date": "2022-01-23",
                                    "type_of_waste": "Contaminated General Waste",
                                    "quantity_kg": "597",
                                    "MTR": "58309"
                                },
                                {
                                    "name": "Contoso Shipping",
                                    "date": "2022-01-23",
                                    "type_of_waste": "Metal",
                                    "quantity_kg": "121",
                                    "MTR": "58314"
                                },
                                {
                                    "name": "Weyland-Yutani Offshore",
                                    "date": "2022-01-24",
                                    "type_of_waste": "Wood",
                                    "quantity_kg": "1211",
                                    "MTR": "58345"
                                },
                                {
                                    "name": "Kamelot Shipping",
                                    "date": "2022-01-24",
                                    "type_of_waste": "Kitchen Oil",
                                    "quantity_kg": "20",
                                    "MTR": "58356"
                                },
                                {
                                    "name": "Omni Offshore",
                                    "date": "2022-01-24",
                                    "type_of_waste": "Oily Water",
                                    "quantity_kg": "18181",
                                    "MTR": "58378"
                                },
                                {
                                    "name": "Cyberdyne Systems",
                                    "date": "2022-01-24",
                                    "type_of_waste": "Paper",
                                    "quantity_kg": "54",
                                    "MTR": "58386"
                                },
                                {
                                    "name": "Omni Offshore",
                                    "date": "2022-01-25",
                                    "type_of_waste": "TetraPak Package",
                                    "quantity_kg": "44",
                                    "MTR": "58443"
                                },
                                {
                                    "name": "Omni Offshore",
                                    "date": "2022-01-25",
                                    "type_of_waste": "Plastic",
                                    "quantity_kg": "18",
                                    "MTR": "58447"
                                },
                                {
                                    "name": "Weyland-Yutani Offshore",
                                    "date": "2022-01-25",
                                    "type_of_waste": "Sewage",
                                    "quantity_kg": "10815",
                                    "MTR": "58448"
                                },
                                {
                                    "name": "Weyland-Yutani Offshore",
                                    "date": "2022-01-25",
                                    "type_of_waste": "Construction Waste",
                                    "quantity_kg": "140",
                                    "MTR": "58460"
                                },
                                {
                                    "name": "Weyland-Yutani Offshore",
                                    "date": "2022-01-25",
                                    "type_of_waste": "Contaminated General Waste",
                                    "quantity_kg": "1110",
                                    "MTR": "58471"
                                },
                                {
                                    "name": "Omni Offshore",
                                    "date": "2022-01-25",
                                    "type_of_waste": "E-waste",
                                    "quantity_kg": "37",
                                    "MTR": "58484"
                                },
                                {
                                    "name": "Weyland-Yutani Offshore",
                                    "date": "2022-01-26",
                                    "type_of_waste": "Contaminated General Waste",
                                    "quantity_kg": "620",
                                    "MTR": "58520"
                                },
                                {
                                    "name": "Cyberdyne Systems",
                                    "date": "2022-01-26",
                                    "type_of_waste": "Non-Recyclable Waste ",
                                    "quantity_kg": "192",
                                    "MTR": "58535"
                                },
                                {
                                    "name": "Omni Offshore",
                                    "date": "2022-01-27",
                                    "type_of_waste": "Kitchen Oil",
                                    "quantity_kg": "2",
                                    "MTR": "58562"
                                },
                                {
                                    "name": "Contoso Shipping",
                                    "date": "2022-01-27",
                                    "type_of_waste": "Organic Waste",
                                    "quantity_kg": "211",
                                    "MTR": "58588"
                                },
                                {
                                    "name": "Brightstar Cruise Lines",
                                    "date": "2022-01-29",
                                    "type_of_waste": "Glass",
                                    "quantity_kg": "1",
                                    "MTR": "58646"
                                },
                                {
                                    "name": "Contoso Shipping",
                                    "date": "2022-01-29",
                                    "type_of_waste": "Non-Recyclable Waste ",
                                    "quantity_kg": "291",
                                    "MTR": "58661"
                                },
                                {
                                    "name": "Contoso Shipping",
                                    "date": "2022-01-29",
                                    "type_of_waste": "Contaminated General Waste",
                                    "quantity_kg": "505",
                                    "MTR": "58671"
                                },
                                {
                                    "name": "Omni Offshore",
                                    "date": "2022-01-29",
                                    "type_of_waste": "Paper",
                                    "quantity_kg": "63",
                                    "MTR": "58675"
                                },
                                {
                                    "name": "Omni Offshore",
                                    "date": "2022-01-29",
                                    "type_of_waste": "Metal",
                                    "quantity_kg": "91",
                                    "MTR": "58676"
                                },
                                {
                                    "name": "Weyland-Yutani Offshore",
                                    "date": "2022-01-29",
                                    "type_of_waste": "Paper",
                                    "quantity_kg": "29",
                                    "MTR": "58690"
                                },
                                {
                                    "name": "Weyland-Yutani Offshore",
                                    "date": "2022-01-29",
                                    "type_of_waste": "Contaminated Metal Drums",
                                    "quantity_kg": "121",
                                    "MTR": "58696"
                                },
                                {
                                    "name": "Omni Offshore",
                                    "date": "2022-01-29",
                                    "type_of_waste": "Batteries",
                                    "quantity_kg": "1",
                                    "MTR": "58700"
                                },
                                {
                                    "name": "Contoso Shipping",
                                    "date": "2022-01-30",
                                    "type_of_waste": "Paper",
                                    "quantity_kg": "89",
                                    "MTR": "58753"
                                },
                                {
                                    "name": "Contoso Shipping",
                                    "date": "2022-01-30",
                                    "type_of_waste": "Plastic",
                                    "quantity_kg": "70",
                                    "MTR": "58767"
                                },
                                {
                                    "name": "Weyland-Yutani Offshore",
                                    "date": "2022-01-31",
                                    "type_of_waste": "Contaminated Metal Drums",
                                    "quantity_kg": "167",
                                    "MTR": "58805"
                                },
                                {
                                    "name": "Contoso Shipping",
                                    "date": "2022-01-31",
                                    "type_of_waste": "Plastic",
                                    "quantity_kg": "23",
                                    "MTR": "58819"
                                },
                                {
                                    "name": "Weyland-Yutani Offshore",
                                    "date": "2022-01-31",
                                    "type_of_waste": "Metal",
                                    "quantity_kg": "138",
                                    "MTR": "58821"
                                },
                                {
                                    "name": "Cyberdyne Systems",
                                    "date": "2022-01-31",
                                    "type_of_waste": "Waste Oil",
                                    "quantity_kg": "6933",
                                    "MTR": "58833"
                                },
                                {
                                    "name": "Contoso Shipping",
                                    "date": "2022-01-31",
                                    "type_of_waste": "Contaminated General Waste",
                                    "quantity_kg": "294",
                                    "MTR": "58834"
                                },
                                {
                                    "name": "Weyland-Yutani Offshore",
                                    "date": "2022-02-01",
                                    "type_of_waste": "Organic Waste",
                                    "quantity_kg": "170",
                                    "MTR": "58907"
                                },
                                {
                                    "name": "Cyberdyne Systems",
                                    "date": "2022-02-01",
                                    "type_of_waste": "Plastic",
                                    "quantity_kg": "146",
                                    "MTR": "58923"
                                },
                                {
                                    "name": "Cyberdyne Systems",
                                    "date": "2022-02-01",
                                    "type_of_waste": "Glass",
                                    "quantity_kg": "34",
                                    "MTR": "58934"
                                },
                                {
                                    "name": "Contoso Shipping",
                                    "date": "2022-02-01",
                                    "type_of_waste": "Plastic",
                                    "quantity_kg": "88",
                                    "MTR": "58953"
                                },
                                {
                                    "name": "Contoso Shipping",
                                    "date": "2022-02-02",
                                    "type_of_waste": "Paper",
                                    "quantity_kg": "50",
                                    "MTR": "59020"
                                },
                                {
                                    "name": "Weyland-Yutani Offshore",
                                    "date": "2022-02-02",
                                    "type_of_waste": "Waste Oil",
                                    "quantity_kg": "5029",
                                    "MTR": "59028"
                                },
                                {
                                    "name": "Weyland-Yutani Offshore",
                                    "date": "2022-02-02",
                                    "type_of_waste": "Plastic",
                                    "quantity_kg": "24",
                                    "MTR": "59031"
                                },
                                {
                                    "name": "Weyland-Yutani Offshore",
                                    "date": "2022-02-03",
                                    "type_of_waste": "Paper",
                                    "quantity_kg": "83",
                                    "MTR": "59032"
                                },
                                {
                                    "name": "Kamelot Shipping",
                                    "date": "2022-02-03",
                                    "type_of_waste": "Kitchen Oil",
                                    "quantity_kg": "20",
                                    "MTR": "59055"
                                },
                                {
                                    "name": "Weyland-Yutani Offshore",
                                    "date": "2022-02-04",
                                    "type_of_waste": "Metal",
                                    "quantity_kg": "273",
                                    "MTR": "59060"
                                },
                                {
                                    "name": "Omni Offshore",
                                    "date": "2022-02-04",
                                    "type_of_waste": "Paper",
                                    "quantity_kg": "26",
                                    "MTR": "59068"
                                },
                                {
                                    "name": "Contoso Shipping",
                                    "date": "2022-02-04",
                                    "type_of_waste": "Organic Waste",
                                    "quantity_kg": "252",
                                    "MTR": "59093"
                                },
                                {
                                    "name": "Contoso Shipping",
                                    "date": "2022-02-05",
                                    "type_of_waste": "Metal",
                                    "quantity_kg": "30",
                                    "MTR": "59143"
                                },
                                {
                                    "name": "Weyland-Yutani Offshore",
                                    "date": "2022-02-05",
                                    "type_of_waste": "Oily Water",
                                    "quantity_kg": "18370",
                                    "MTR": "59153"
                                },
                                {
                                    "name": "Weyland-Yutani Offshore",
                                    "date": "2022-02-05",
                                    "type_of_waste": "Non-Recyclable Waste ",
                                    "quantity_kg": "670",
                                    "MTR": "59169"
                                },
                                {
                                    "name": "Cyberdyne Systems",
                                    "date": "2022-02-05",
                                    "type_of_waste": "Metal",
                                    "quantity_kg": "116",
                                    "MTR": "59181"
                                },
                                {
                                    "name": "Contoso Shipping",
                                    "date": "2022-02-05",
                                    "type_of_waste": "Wood",
                                    "quantity_kg": "702",
                                    "MTR": "59182"
                                },
                                {
                                    "name": "Contoso Shipping",
                                    "date": "2022-02-05",
                                    "type_of_waste": "Metal",
                                    "quantity_kg": "59",
                                    "MTR": "59187"
                                },
                                {
                                    "name": "Brightstar Cruise Lines",
                                    "date": "2022-02-06",
                                    "type_of_waste": "Kitchen Oil",
                                    "quantity_kg": "15",
                                    "MTR": "59233"
                                },
                                {
                                    "name": "Cyberdyne Systems",
                                    "date": "2022-02-06",
                                    "type_of_waste": "Contaminated General Waste",
                                    "quantity_kg": "208",
                                    "MTR": "59258"
                                },
                                {
                                    "name": "Weyland-Yutani Offshore",
                                    "date": "2022-02-07",
                                    "type_of_waste": "Construction Waste",
                                    "quantity_kg": "518",
                                    "MTR": "59268"
                                },
                                {
                                    "name": "Kamelot Shipping",
                                    "date": "2022-02-07",
                                    "type_of_waste": "Kitchen Oil",
                                    "quantity_kg": "20",
                                    "MTR": "59278"
                                },
                                {
                                    "name": "Kamelot Shipping",
                                    "date": "2022-02-07",
                                    "type_of_waste": "Plastic",
                                    "quantity_kg": "20",
                                    "MTR": "59279"
                                },
                                {
                                    "name": "Cyberdyne Systems",
                                    "date": "2022-02-07",
                                    "type_of_waste": "Paper",
                                    "quantity_kg": "52",
                                    "MTR": "59297"
                                },
                                {
                                    "name": "Weyland-Yutani Offshore",
                                    "date": "2022-02-08",
                                    "type_of_waste": "Sewage",
                                    "quantity_kg": "4006",
                                    "MTR": "59342"
                                },
                                {
                                    "name": "Weyland-Yutani Offshore",
                                    "date": "2022-02-08",
                                    "type_of_waste": "Waste Oil",
                                    "quantity_kg": "8259",
                                    "MTR": "59358"
                                },
                                {
                                    "name": "Omni Offshore",
                                    "date": "2022-02-08",
                                    "type_of_waste": "Plastic",
                                    "quantity_kg": "40",
                                    "MTR": "59367"
                                },
                                {
                                    "name": "Contoso Shipping",
                                    "date": "2022-02-09",
                                    "type_of_waste": "Contaminated Metal Drums",
                                    "quantity_kg": "80",
                                    "MTR": "59420"
                                }
                            ]
                        },
                        "text/html": [
                            "<table>",
                            "<tr><th>name</th><th>name</th><th>date</th><th>type_of_waste</th><th>quantity_kg</th><th>MTR</th></tr>",
                            "<tr><td>Seagull</td><td>Omni Offshore</td><td>2022-01-02</td><td>Paper</td><td>27</td><td>57551</td></tr>",
                            "<tr><td>Rio de Janeiro</td><td>Contoso Shipping</td><td>2022-01-05</td><td>Contaminated General Waste</td><td>518</td><td>57592</td></tr>",
                            "<tr><td>Buster</td><td>Cyberdyne Systems</td><td>2022-01-06</td><td>TetraPak Package</td><td>9</td><td>57612</td></tr>",
                            "<tr><td>Seagull</td><td>Omni Offshore</td><td>2022-01-07</td><td>Contaminated Metal Drums</td><td>68</td><td>57661</td></tr>",
                            "<tr><td>Buster</td><td>Cyberdyne Systems</td><td>2022-01-07</td><td>Waste Oil</td><td>5716</td><td>57671</td></tr>",
                            "<tr><td>Seagull</td><td>Omni Offshore</td><td>2022-01-08</td><td>Oily Water</td><td>18748</td><td>57698</td></tr>",
                            "<tr><td>Rio de Janeiro</td><td>Contoso Shipping</td><td>2022-01-08</td><td>Organic Waste</td><td>230</td><td>57712</td></tr>",
                            "<tr><td>John McDonnell</td><td>Contoso Shipping</td><td>2022-01-09</td><td>Kitchen Oil</td><td>10</td><td>57755</td></tr>",
                            "<tr><td>Seagull</td><td>Omni Offshore</td><td>2022-01-10</td><td>Batteries</td><td>11</td><td>57756</td></tr>",
                            "<tr><td>Atlantis</td><td>Weyland-Yutani Offshore</td><td>2022-01-11</td><td>Waste Oil</td><td>5122</td><td>57819</td></tr>",
                            "<tr><td>Buster</td><td>Cyberdyne Systems</td><td>2022-01-11</td><td>Plastic</td><td>61</td><td>57828</td></tr>",
                            "<tr><td>Threepwood</td><td>Brightstar Cruise Lines</td><td>2022-01-12</td><td>TetraPak Package</td><td>2</td><td>57831</td></tr>",
                            "<tr><td>Rio de Janeiro</td><td>Contoso Shipping</td><td>2022-01-12</td><td>Metal</td><td>109</td><td>57841</td></tr>",
                            "<tr><td>Atlantis</td><td>Weyland-Yutani Offshore</td><td>2022-01-13</td><td>Construction Waste</td><td>65</td><td>57871</td></tr>",
                            "<tr><td>Seagull</td><td>Omni Offshore</td><td>2022-01-13</td><td>Batteries</td><td>48</td><td>57891</td></tr>",
                            "<tr><td>Buster</td><td>Cyberdyne Systems</td><td>2022-01-13</td><td>Paper</td><td>39</td><td>57893</td></tr>",
                            "<tr><td>Azores</td><td>Weyland-Yutani Offshore</td><td>2022-01-14</td><td>Contaminated General Waste</td><td>247</td><td>57912</td></tr>",
                            "<tr><td>Atlantis</td><td>Weyland-Yutani Offshore</td><td>2022-01-14</td><td>Contaminated General Waste</td><td>500</td><td>57928</td></tr>",
                            "<tr><td>Rio de Janeiro</td><td>Contoso Shipping</td><td>2022-01-14</td><td>Paper</td><td>5</td><td>57932</td></tr>",
                            "<tr><td>Shaman</td><td>Kamelot Shipping</td><td>2022-01-15</td><td>Plastic</td><td>69</td><td>57958</td></tr>",
                            "<tr><td>Rio de Janeiro</td><td>Contoso Shipping</td><td>2022-01-15</td><td>Paper</td><td>50</td><td>57969</td></tr>",
                            "<tr><td>Shaman</td><td>Kamelot Shipping</td><td>2022-01-16</td><td>Kitchen Oil</td><td>20</td><td>57988</td></tr>",
                            "<tr><td>Shaman</td><td>Kamelot Shipping</td><td>2022-01-16</td><td>Contaminated General Waste</td><td>86</td><td>57990</td></tr>",
                            "<tr><td>Atlantis</td><td>Weyland-Yutani Offshore</td><td>2022-01-17</td><td>Sewage</td><td>837</td><td>58000</td></tr>",
                            "<tr><td>Atlantis</td><td>Weyland-Yutani Offshore</td><td>2022-01-17</td><td>Paper</td><td>82</td><td>58001</td></tr>",
                            "<tr><td>Buster</td><td>Cyberdyne Systems</td><td>2022-01-17</td><td>Metal</td><td>44</td><td>58018</td></tr>",
                            "<tr><td>Rio de Janeiro</td><td>Contoso Shipping</td><td>2022-01-17</td><td>Organic Waste</td><td>225</td><td>58046</td></tr>",
                            "<tr><td>Atlantis</td><td>Weyland-Yutani Offshore</td><td>2022-01-18</td><td>Paper</td><td>97</td><td>58089</td></tr>",
                            "<tr><td>Seagull</td><td>Omni Offshore</td><td>2022-01-18</td><td>Batteries</td><td>48</td><td>58101</td></tr>",
                            "<tr><td>Magellan</td><td>Umbrella Corp</td><td>2022-01-19</td><td>Sewage</td><td>8390</td><td>58109</td></tr>",
                            "<tr><td>St. Catherine</td><td>Contoso Shipping</td><td>2022-01-19</td><td>Glass</td><td>36</td><td>58126</td></tr>",
                            "<tr><td>Rio de Janeiro</td><td>Contoso Shipping</td><td>2022-01-19</td><td>Plastic</td><td>95</td><td>58139</td></tr>",
                            "<tr><td>John McDonnell</td><td>Contoso Shipping</td><td>2022-01-20</td><td>Glass</td><td>34</td><td>58141</td></tr>",
                            "<tr><td>Buster</td><td>Cyberdyne Systems</td><td>2022-01-20</td><td>Plastic</td><td>37</td><td>58163</td></tr>",
                            "<tr><td>Threepwood</td><td>Brightstar Cruise Lines</td><td>2022-01-21</td><td>Non-Recyclable Waste </td><td>503</td><td>58192</td></tr>",
                            "<tr><td>Buster</td><td>Cyberdyne Systems</td><td>2022-01-21</td><td>Contaminated General Waste</td><td>144</td><td>58204</td></tr>",
                            "<tr><td>Rio de Janeiro</td><td>Contoso Shipping</td><td>2022-01-21</td><td>Non-Recyclable Waste </td><td>343</td><td>58208</td></tr>",
                            "<tr><td>Atlantis</td><td>Weyland-Yutani Offshore</td><td>2022-01-22</td><td>Non-Recyclable Waste </td><td>612</td><td>58245</td></tr>",
                            "<tr><td>Azores</td><td>Weyland-Yutani Offshore</td><td>2022-01-23</td><td>Paper</td><td>21</td><td>58258</td></tr>",
                            "<tr><td>Diamond</td><td>Brightstar Cruise Lines</td><td>2022-01-23</td><td>Contaminated General Waste</td><td>369</td><td>58277</td></tr>",
                            "<tr><td>Shaman</td><td>Kamelot Shipping</td><td>2022-01-23</td><td>Plastic</td><td>11</td><td>58305</td></tr>",
                            "<tr><td>Rio de Janeiro</td><td>Contoso Shipping</td><td>2022-01-23</td><td>Contaminated General Waste</td><td>597</td><td>58309</td></tr>",
                            "<tr><td>Rio de Janeiro</td><td>Contoso Shipping</td><td>2022-01-23</td><td>Metal</td><td>121</td><td>58314</td></tr>",
                            "<tr><td>Atlantis</td><td>Weyland-Yutani Offshore</td><td>2022-01-24</td><td>Wood</td><td>1211</td><td>58345</td></tr>",
                            "<tr><td>Shaman</td><td>Kamelot Shipping</td><td>2022-01-24</td><td>Kitchen Oil</td><td>20</td><td>58356</td></tr>",
                            "<tr><td>Seagull</td><td>Omni Offshore</td><td>2022-01-24</td><td>Oily Water</td><td>18181</td><td>58378</td></tr>",
                            "<tr><td>Buster</td><td>Cyberdyne Systems</td><td>2022-01-24</td><td>Paper</td><td>54</td><td>58386</td></tr>",
                            "<tr><td>Aberdeen</td><td>Omni Offshore</td><td>2022-01-25</td><td>TetraPak Package</td><td>44</td><td>58443</td></tr>",
                            "<tr><td>Aberdeen</td><td>Omni Offshore</td><td>2022-01-25</td><td>Plastic</td><td>18</td><td>58447</td></tr>",
                            "<tr><td>Atlantis</td><td>Weyland-Yutani Offshore</td><td>2022-01-25</td><td>Sewage</td><td>10815</td><td>58448</td></tr>",
                            "<tr><td>Atlantis</td><td>Weyland-Yutani Offshore</td><td>2022-01-25</td><td>Construction Waste</td><td>140</td><td>58460</td></tr>",
                            "<tr><td>Atlantis</td><td>Weyland-Yutani Offshore</td><td>2022-01-25</td><td>Contaminated General Waste</td><td>1110</td><td>58471</td></tr>",
                            "<tr><td>Seagull</td><td>Omni Offshore</td><td>2022-01-25</td><td>E-waste</td><td>37</td><td>58484</td></tr>",
                            "<tr><td>Atlantis</td><td>Weyland-Yutani Offshore</td><td>2022-01-26</td><td>Contaminated General Waste</td><td>620</td><td>58520</td></tr>",
                            "<tr><td>Buster</td><td>Cyberdyne Systems</td><td>2022-01-26</td><td>Non-Recyclable Waste </td><td>192</td><td>58535</td></tr>",
                            "<tr><td>Aberdeen</td><td>Omni Offshore</td><td>2022-01-27</td><td>Kitchen Oil</td><td>2</td><td>58562</td></tr>",
                            "<tr><td>Rio de Janeiro</td><td>Contoso Shipping</td><td>2022-01-27</td><td>Organic Waste</td><td>211</td><td>58588</td></tr>",
                            "<tr><td>Threepwood</td><td>Brightstar Cruise Lines</td><td>2022-01-29</td><td>Glass</td><td>1</td><td>58646</td></tr>",
                            "<tr><td>John McDonnell</td><td>Contoso Shipping</td><td>2022-01-29</td><td>Non-Recyclable Waste </td><td>291</td><td>58661</td></tr>",
                            "<tr><td>John McDonnell</td><td>Contoso Shipping</td><td>2022-01-29</td><td>Contaminated General Waste</td><td>505</td><td>58671</td></tr>",
                            "<tr><td>Aberdeen</td><td>Omni Offshore</td><td>2022-01-29</td><td>Paper</td><td>63</td><td>58675</td></tr>",
                            "<tr><td>Aberdeen</td><td>Omni Offshore</td><td>2022-01-29</td><td>Metal</td><td>91</td><td>58676</td></tr>",
                            "<tr><td>Atlantis</td><td>Weyland-Yutani Offshore</td><td>2022-01-29</td><td>Paper</td><td>29</td><td>58690</td></tr>",
                            "<tr><td>Atlantis</td><td>Weyland-Yutani Offshore</td><td>2022-01-29</td><td>Contaminated Metal Drums</td><td>121</td><td>58696</td></tr>",
                            "<tr><td>Seagull</td><td>Omni Offshore</td><td>2022-01-29</td><td>Batteries</td><td>1</td><td>58700</td></tr>",
                            "<tr><td>Rio de Janeiro</td><td>Contoso Shipping</td><td>2022-01-30</td><td>Paper</td><td>89</td><td>58753</td></tr>",
                            "<tr><td>Rio de Janeiro</td><td>Contoso Shipping</td><td>2022-01-30</td><td>Plastic</td><td>70</td><td>58767</td></tr>",
                            "<tr><td>Azores</td><td>Weyland-Yutani Offshore</td><td>2022-01-31</td><td>Contaminated Metal Drums</td><td>167</td><td>58805</td></tr>",
                            "<tr><td>John McDonnell</td><td>Contoso Shipping</td><td>2022-01-31</td><td>Plastic</td><td>23</td><td>58819</td></tr>",
                            "<tr><td>Atlantis</td><td>Weyland-Yutani Offshore</td><td>2022-01-31</td><td>Metal</td><td>138</td><td>58821</td></tr>",
                            "<tr><td>Buster</td><td>Cyberdyne Systems</td><td>2022-01-31</td><td>Waste Oil</td><td>6933</td><td>58833</td></tr>",
                            "<tr><td>Rio de Janeiro</td><td>Contoso Shipping</td><td>2022-01-31</td><td>Contaminated General Waste</td><td>294</td><td>58834</td></tr>",
                            "<tr><td>Atlantis</td><td>Weyland-Yutani Offshore</td><td>2022-02-01</td><td>Organic Waste</td><td>170</td><td>58907</td></tr>",
                            "<tr><td>Buster</td><td>Cyberdyne Systems</td><td>2022-02-01</td><td>Plastic</td><td>146</td><td>58923</td></tr>",
                            "<tr><td>Buster</td><td>Cyberdyne Systems</td><td>2022-02-01</td><td>Glass</td><td>34</td><td>58934</td></tr>",
                            "<tr><td>Rio de Janeiro</td><td>Contoso Shipping</td><td>2022-02-01</td><td>Plastic</td><td>88</td><td>58953</td></tr>",
                            "<tr><td>John McDonnell</td><td>Contoso Shipping</td><td>2022-02-02</td><td>Paper</td><td>50</td><td>59020</td></tr>",
                            "<tr><td>Atlantis</td><td>Weyland-Yutani Offshore</td><td>2022-02-02</td><td>Waste Oil</td><td>5029</td><td>59028</td></tr>",
                            "<tr><td>Atlantis</td><td>Weyland-Yutani Offshore</td><td>2022-02-02</td><td>Plastic</td><td>24</td><td>59031</td></tr>",
                            "<tr><td>Atlantis</td><td>Weyland-Yutani Offshore</td><td>2022-02-03</td><td>Paper</td><td>83</td><td>59032</td></tr>",
                            "<tr><td>Shaman</td><td>Kamelot Shipping</td><td>2022-02-03</td><td>Kitchen Oil</td><td>20</td><td>59055</td></tr>",
                            "<tr><td>Atlantis</td><td>Weyland-Yutani Offshore</td><td>2022-02-04</td><td>Metal</td><td>273</td><td>59060</td></tr>",
                            "<tr><td>Seagull</td><td>Omni Offshore</td><td>2022-02-04</td><td>Paper</td><td>26</td><td>59068</td></tr>",
                            "<tr><td>Rio de Janeiro</td><td>Contoso Shipping</td><td>2022-02-04</td><td>Organic Waste</td><td>252</td><td>59093</td></tr>",
                            "<tr><td>John McDonnell</td><td>Contoso Shipping</td><td>2022-02-05</td><td>Metal</td><td>30</td><td>59143</td></tr>",
                            "<tr><td>Atlantis</td><td>Weyland-Yutani Offshore</td><td>2022-02-05</td><td>Oily Water</td><td>18370</td><td>59153</td></tr>",
                            "<tr><td>Atlantis</td><td>Weyland-Yutani Offshore</td><td>2022-02-05</td><td>Non-Recyclable Waste </td><td>670</td><td>59169</td></tr>",
                            "<tr><td>Buster</td><td>Cyberdyne Systems</td><td>2022-02-05</td><td>Metal</td><td>116</td><td>59181</td></tr>",
                            "<tr><td>Rio de Janeiro</td><td>Contoso Shipping</td><td>2022-02-05</td><td>Wood</td><td>702</td><td>59182</td></tr>",
                            "<tr><td>Rio de Janeiro</td><td>Contoso Shipping</td><td>2022-02-05</td><td>Metal</td><td>59</td><td>59187</td></tr>",
                            "<tr><td>Threepwood</td><td>Brightstar Cruise Lines</td><td>2022-02-06</td><td>Kitchen Oil</td><td>15</td><td>59233</td></tr>",
                            "<tr><td>Buster</td><td>Cyberdyne Systems</td><td>2022-02-06</td><td>Contaminated General Waste</td><td>208</td><td>59258</td></tr>",
                            "<tr><td>Atlantis</td><td>Weyland-Yutani Offshore</td><td>2022-02-07</td><td>Construction Waste</td><td>518</td><td>59268</td></tr>",
                            "<tr><td>Shaman</td><td>Kamelot Shipping</td><td>2022-02-07</td><td>Kitchen Oil</td><td>20</td><td>59278</td></tr>",
                            "<tr><td>Shaman</td><td>Kamelot Shipping</td><td>2022-02-07</td><td>Plastic</td><td>20</td><td>59279</td></tr>",
                            "<tr><td>Buster</td><td>Cyberdyne Systems</td><td>2022-02-07</td><td>Paper</td><td>52</td><td>59297</td></tr>",
                            "<tr><td>Atlantis</td><td>Weyland-Yutani Offshore</td><td>2022-02-08</td><td>Sewage</td><td>4006</td><td>59342</td></tr>",
                            "<tr><td>Atlantis</td><td>Weyland-Yutani Offshore</td><td>2022-02-08</td><td>Waste Oil</td><td>8259</td><td>59358</td></tr>",
                            "<tr><td>Seagull</td><td>Omni Offshore</td><td>2022-02-08</td><td>Plastic</td><td>40</td><td>59367</td></tr>",
                            "<tr><td>John McDonnell</td><td>Contoso Shipping</td><td>2022-02-09</td><td>Contaminated Metal Drums</td><td>80</td><td>59420</td></tr>",
                            "</table>"
                        ]
                    }
                }
            ],
            "execution_count": 1
        },
        {
            "cell_type": "markdown",
            "source": [
                "The first thing we want to find out is: who are our Top 5 clients regarding total waste generation, and how much waste they disposed since we started working with them."
            ],
            "metadata": {
                "language": "sql",
                "azdata_cell_guid": "a1e851cd-bb1a-4342-8a99-b5ce8ee717d4"
            },
            "attachments": {}
        },
        {
            "cell_type": "code",
            "source": [
                "SELECT TOP 5 clients.name AS \"Company\", SUM(waste_generation.quantity_kg) AS \"Total quantity of waste\"\r\n",
                "FROM waste_generation\r\n",
                "JOIN units ON waste_generation.origin=units.id\r\n",
                "JOIN clients ON units.owner_id=clients.id\r\n",
                "GROUP BY clients.name\r\n",
                "ORDER BY SUM(waste_generation.quantity_kg) DESC;"
            ],
            "metadata": {
                "azdata_cell_guid": "dced144f-ad7f-4395-8e6f-64dac0364b77",
                "language": "sql"
            },
            "outputs": [
                {
                    "output_type": "display_data",
                    "data": {
                        "text/html": "(5 rows affected)"
                    },
                    "metadata": {}
                },
                {
                    "output_type": "display_data",
                    "data": {
                        "text/html": "Total execution time: 00:00:00.051"
                    },
                    "metadata": {}
                },
                {
                    "output_type": "execute_result",
                    "metadata": {},
                    "execution_count": 2,
                    "data": {
                        "application/vnd.dataresource+json": {
                            "schema": {
                                "fields": [
                                    {
                                        "name": "Company"
                                    },
                                    {
                                        "name": "Total quantity of waste"
                                    }
                                ]
                            },
                            "data": [
                                {
                                    "Company": "Weyland-Yutani Offshore",
                                    "Total quantity of waste": "939764"
                                },
                                {
                                    "Company": "Omni Offshore",
                                    "Total quantity of waste": "575972"
                                },
                                {
                                    "Company": "Umbrella Corp",
                                    "Total quantity of waste": "167006"
                                },
                                {
                                    "Company": "Cyberdyne Systems",
                                    "Total quantity of waste": "93110"
                                },
                                {
                                    "Company": "Contoso Shipping",
                                    "Total quantity of waste": "81956"
                                }
                            ]
                        },
                        "text/html": [
                            "<table>",
                            "<tr><th>Company</th><th>Total quantity of waste</th></tr>",
                            "<tr><td>Weyland-Yutani Offshore</td><td>939764</td></tr>",
                            "<tr><td>Omni Offshore</td><td>575972</td></tr>",
                            "<tr><td>Umbrella Corp</td><td>167006</td></tr>",
                            "<tr><td>Cyberdyne Systems</td><td>93110</td></tr>",
                            "<tr><td>Contoso Shipping</td><td>81956</td></tr>",
                            "</table>"
                        ]
                    }
                }
            ],
            "execution_count": 2
        },
        {
            "cell_type": "markdown",
            "source": [
                "Another information that can guide important decision making and process optmization in our business is knowing which are the most common waste types we receive. Let's say, the top 10 of them. We can easily figure it out, and rank them by the total quantity we received in kg."
            ],
            "metadata": {
                "language": "sql",
                "azdata_cell_guid": "2def60ea-1749-4612-96e4-78c84b9ffb46"
            },
            "attachments": {}
        },
        {
            "cell_type": "code",
            "source": [
                "SELECT TOP 10 waste_types.type_of_waste, SUM(waste_generation.quantity_kg) AS \"Quantity of waste\"\r\n",
                "FROM waste_generation\r\n",
                "JOIN waste_types on waste_generation.waste=waste_types.codes\r\n",
                "GROUP BY waste_types.type_of_waste\r\n",
                "ORDER BY SUM(waste_generation.quantity_kg) DESC;"
            ],
            "metadata": {
                "language": "sql",
                "azdata_cell_guid": "431deed6-23e3-41cb-b2a3-b0f8118f0c05"
            },
            "outputs": [
                {
                    "output_type": "display_data",
                    "data": {
                        "text/html": "(10 rows affected)"
                    },
                    "metadata": {}
                },
                {
                    "output_type": "display_data",
                    "data": {
                        "text/html": "Total execution time: 00:00:00.050"
                    },
                    "metadata": {}
                },
                {
                    "output_type": "execute_result",
                    "metadata": {},
                    "execution_count": 3,
                    "data": {
                        "application/vnd.dataresource+json": {
                            "schema": {
                                "fields": [
                                    {
                                        "name": "type_of_waste"
                                    },
                                    {
                                        "name": "Quantity of waste"
                                    }
                                ]
                            },
                            "data": [
                                {
                                    "type_of_waste": "Oily Water",
                                    "Quantity of waste": "896861"
                                },
                                {
                                    "type_of_waste": "Waste Oil",
                                    "Quantity of waste": "444204"
                                },
                                {
                                    "type_of_waste": "Sewage",
                                    "Quantity of waste": "374546"
                                },
                                {
                                    "type_of_waste": "Contaminated General Waste",
                                    "Quantity of waste": "61105"
                                },
                                {
                                    "type_of_waste": "Non-Recyclable Waste ",
                                    "Quantity of waste": "49186"
                                },
                                {
                                    "type_of_waste": "Metal",
                                    "Quantity of waste": "17710"
                                },
                                {
                                    "type_of_waste": "Wood",
                                    "Quantity of waste": "14964"
                                },
                                {
                                    "type_of_waste": "Organic Waste",
                                    "Quantity of waste": "12703"
                                },
                                {
                                    "type_of_waste": "Plastic",
                                    "Quantity of waste": "9900"
                                },
                                {
                                    "type_of_waste": "Paper",
                                    "Quantity of waste": "7670"
                                }
                            ]
                        },
                        "text/html": [
                            "<table>",
                            "<tr><th>type_of_waste</th><th>Quantity of waste</th></tr>",
                            "<tr><td>Oily Water</td><td>896861</td></tr>",
                            "<tr><td>Waste Oil</td><td>444204</td></tr>",
                            "<tr><td>Sewage</td><td>374546</td></tr>",
                            "<tr><td>Contaminated General Waste</td><td>61105</td></tr>",
                            "<tr><td>Non-Recyclable Waste </td><td>49186</td></tr>",
                            "<tr><td>Metal</td><td>17710</td></tr>",
                            "<tr><td>Wood</td><td>14964</td></tr>",
                            "<tr><td>Organic Waste</td><td>12703</td></tr>",
                            "<tr><td>Plastic</td><td>9900</td></tr>",
                            "<tr><td>Paper</td><td>7670</td></tr>",
                            "</table>"
                        ]
                    }
                }
            ],
            "execution_count": 3
        },
        {
            "cell_type": "markdown",
            "source": [
                "The leadership of the company might be interested in knowing which was our busiest month. We can compile how much waste we managed each month and rank them."
            ],
            "metadata": {
                "language": "sql",
                "azdata_cell_guid": "e4adf757-361d-4a81-8344-1a9cfbba6487"
            },
            "attachments": {}
        },
        {
            "cell_type": "code",
            "source": [
                "SELECT CONCAT(STR(MONTH([date])), '/',LTRIM(STR(YEAR([date])))) AS 'Month', SUM(quantity_kg) AS 'Total Waste (kg)'\r\n",
                "FROM waste_generation\r\n",
                "GROUP BY MONTH([date]), YEAR([date])\r\n",
                "ORDER BY YEAR([date]), MONTH([date]);"
            ],
            "metadata": {
                "azdata_cell_guid": "c4654952-8e4c-4f71-a885-fbf2e4804a40",
                "language": "sql"
            },
            "outputs": [
                {
                    "output_type": "display_data",
                    "data": {
                        "text/html": "(32 rows affected)"
                    },
                    "metadata": {}
                },
                {
                    "output_type": "display_data",
                    "data": {
                        "text/html": "Total execution time: 00:00:00.060"
                    },
                    "metadata": {}
                },
                {
                    "output_type": "execute_result",
                    "metadata": {},
                    "execution_count": 4,
                    "data": {
                        "application/vnd.dataresource+json": {
                            "schema": {
                                "fields": [
                                    {
                                        "name": "Month"
                                    },
                                    {
                                        "name": "Total Waste (kg)"
                                    }
                                ]
                            },
                            "data": [
                                {
                                    "Month": "         1/2022",
                                    "Total Waste (kg)": "85877"
                                },
                                {
                                    "Month": "         2/2022",
                                    "Total Waste (kg)": "89161"
                                },
                                {
                                    "Month": "         3/2022",
                                    "Total Waste (kg)": "107666"
                                },
                                {
                                    "Month": "         4/2022",
                                    "Total Waste (kg)": "149898"
                                },
                                {
                                    "Month": "         5/2022",
                                    "Total Waste (kg)": "128676"
                                },
                                {
                                    "Month": "         6/2022",
                                    "Total Waste (kg)": "115170"
                                },
                                {
                                    "Month": "         7/2022",
                                    "Total Waste (kg)": "135909"
                                },
                                {
                                    "Month": "         8/2022",
                                    "Total Waste (kg)": "187902"
                                },
                                {
                                    "Month": "         9/2022",
                                    "Total Waste (kg)": "134331"
                                },
                                {
                                    "Month": "        10/2022",
                                    "Total Waste (kg)": "134683"
                                },
                                {
                                    "Month": "        11/2022",
                                    "Total Waste (kg)": "94059"
                                },
                                {
                                    "Month": "        12/2022",
                                    "Total Waste (kg)": "109405"
                                },
                                {
                                    "Month": "         1/2023",
                                    "Total Waste (kg)": "105356"
                                },
                                {
                                    "Month": "         2/2023",
                                    "Total Waste (kg)": "15207"
                                },
                                {
                                    "Month": "         3/2023",
                                    "Total Waste (kg)": "119108"
                                },
                                {
                                    "Month": "         4/2023",
                                    "Total Waste (kg)": "68517"
                                },
                                {
                                    "Month": "         5/2023",
                                    "Total Waste (kg)": "19565"
                                },
                                {
                                    "Month": "         6/2023",
                                    "Total Waste (kg)": "19527"
                                },
                                {
                                    "Month": "         7/2023",
                                    "Total Waste (kg)": "14909"
                                },
                                {
                                    "Month": "         8/2023",
                                    "Total Waste (kg)": "10223"
                                },
                                {
                                    "Month": "         9/2023",
                                    "Total Waste (kg)": "24381"
                                },
                                {
                                    "Month": "        10/2023",
                                    "Total Waste (kg)": "10529"
                                },
                                {
                                    "Month": "        11/2023",
                                    "Total Waste (kg)": "325"
                                },
                                {
                                    "Month": "        12/2023",
                                    "Total Waste (kg)": "9950"
                                },
                                {
                                    "Month": "         1/2024",
                                    "Total Waste (kg)": "242"
                                },
                                {
                                    "Month": "         2/2024",
                                    "Total Waste (kg)": "15106"
                                },
                                {
                                    "Month": "         3/2024",
                                    "Total Waste (kg)": "1746"
                                },
                                {
                                    "Month": "         4/2024",
                                    "Total Waste (kg)": "13"
                                },
                                {
                                    "Month": "         6/2024",
                                    "Total Waste (kg)": "664"
                                },
                                {
                                    "Month": "         9/2024",
                                    "Total Waste (kg)": "105"
                                },
                                {
                                    "Month": "        11/2024",
                                    "Total Waste (kg)": "14"
                                },
                                {
                                    "Month": "        11/2025",
                                    "Total Waste (kg)": "71"
                                }
                            ]
                        },
                        "text/html": [
                            "<table>",
                            "<tr><th>Month</th><th>Total Waste (kg)</th></tr>",
                            "<tr><td>         1/2022</td><td>85877</td></tr>",
                            "<tr><td>         2/2022</td><td>89161</td></tr>",
                            "<tr><td>         3/2022</td><td>107666</td></tr>",
                            "<tr><td>         4/2022</td><td>149898</td></tr>",
                            "<tr><td>         5/2022</td><td>128676</td></tr>",
                            "<tr><td>         6/2022</td><td>115170</td></tr>",
                            "<tr><td>         7/2022</td><td>135909</td></tr>",
                            "<tr><td>         8/2022</td><td>187902</td></tr>",
                            "<tr><td>         9/2022</td><td>134331</td></tr>",
                            "<tr><td>        10/2022</td><td>134683</td></tr>",
                            "<tr><td>        11/2022</td><td>94059</td></tr>",
                            "<tr><td>        12/2022</td><td>109405</td></tr>",
                            "<tr><td>         1/2023</td><td>105356</td></tr>",
                            "<tr><td>         2/2023</td><td>15207</td></tr>",
                            "<tr><td>         3/2023</td><td>119108</td></tr>",
                            "<tr><td>         4/2023</td><td>68517</td></tr>",
                            "<tr><td>         5/2023</td><td>19565</td></tr>",
                            "<tr><td>         6/2023</td><td>19527</td></tr>",
                            "<tr><td>         7/2023</td><td>14909</td></tr>",
                            "<tr><td>         8/2023</td><td>10223</td></tr>",
                            "<tr><td>         9/2023</td><td>24381</td></tr>",
                            "<tr><td>        10/2023</td><td>10529</td></tr>",
                            "<tr><td>        11/2023</td><td>325</td></tr>",
                            "<tr><td>        12/2023</td><td>9950</td></tr>",
                            "<tr><td>         1/2024</td><td>242</td></tr>",
                            "<tr><td>         2/2024</td><td>15106</td></tr>",
                            "<tr><td>         3/2024</td><td>1746</td></tr>",
                            "<tr><td>         4/2024</td><td>13</td></tr>",
                            "<tr><td>         6/2024</td><td>664</td></tr>",
                            "<tr><td>         9/2024</td><td>105</td></tr>",
                            "<tr><td>        11/2024</td><td>14</td></tr>",
                            "<tr><td>        11/2025</td><td>71</td></tr>",
                            "</table>"
                        ]
                    }
                }
            ],
            "execution_count": 4
        },
        {
            "cell_type": "markdown",
            "source": [
                "Analyzing further, they might want to know which units from our clients generated the most waste in the busiest month, to try to understand why it was so busy. We could just take the results from the previous query and manually select the month and year we want. But it would be more elegant and useful to write a query that always rank the top 5 units from the busiest month, as we would not have to change anything in the code as data is updated."
            ],
            "metadata": {
                "azdata_cell_guid": "4e12cb51-a6db-4150-b7d5-2de4cae05d96"
            },
            "attachments": {}
        },
        {
            "cell_type": "code",
            "source": [
                "SELECT dbo.units.name, SUM(dbo.waste_generation.quantity_kg) \r\n",
                "FROM waste_generation\r\n",
                "JOIN units ON units.id = waste_generation.origin\r\n",
                "WHERE MONTH(date) = (SELECT MONTH(date)\r\n",
                "FROM waste_generation\r\n",
                "GROUP BY MONTH(date), YEAR(date)\r\n",
                "HAVING SUM(quantity_kg) = (\r\n",
                "    SELECT MAX(subquery.quantity_kg)\r\n",
                "    FROM (\r\n",
                "        SELECT MONTH(date) AS month, YEAR(date) AS year, SUM(quantity_kg) AS quantity_kg\r\n",
                "        FROM waste_generation\r\n",
                "        GROUP BY MONTH(date), YEAR(date)\r\n",
                "    ) AS subquery\r\n",
                "))\r\n",
                "AND YEAR([date]) = (SELECT YEAR(date)\r\n",
                "FROM waste_generation\r\n",
                "GROUP BY MONTH(date), YEAR(date)\r\n",
                "HAVING SUM(quantity_kg) = (\r\n",
                "    SELECT MAX(subquery.quantity_kg)\r\n",
                "    FROM (\r\n",
                "        SELECT MONTH(date) AS month, YEAR(date) AS year, SUM(quantity_kg) AS quantity_kg\r\n",
                "        FROM waste_generation\r\n",
                "        GROUP BY MONTH(date), YEAR(date)\r\n",
                "    ) AS subquery\r\n",
                "))\r\n",
                "GROUP BY dbo.units.name\r\n",
                "ORDER BY SUM(dbo.waste_generation.quantity_kg) DESC;"
            ],
            "metadata": {
                "azdata_cell_guid": "69b2113e-386c-4e69-b11f-842c639e10b7",
                "language": "sql",
                "tags": []
            },
            "outputs": [
                {
                    "output_type": "display_data",
                    "data": {
                        "text/html": "(11 rows affected)"
                    },
                    "metadata": {}
                },
                {
                    "output_type": "display_data",
                    "data": {
                        "text/html": "Total execution time: 00:00:00.070"
                    },
                    "metadata": {}
                },
                {
                    "output_type": "execute_result",
                    "metadata": {},
                    "execution_count": 5,
                    "data": {
                        "application/vnd.dataresource+json": {
                            "schema": {
                                "fields": [
                                    {
                                        "name": "name"
                                    },
                                    {
                                        "name": "(No column name)"
                                    }
                                ]
                            },
                            "data": [
                                {
                                    "name": "Atlantis",
                                    "(No column name)": "82192"
                                },
                                {
                                    "name": "Seagull",
                                    "(No column name)": "79692"
                                },
                                {
                                    "name": "Magellan",
                                    "(No column name)": "17340"
                                },
                                {
                                    "name": "Rio de Janeiro",
                                    "(No column name)": "3339"
                                },
                                {
                                    "name": "Shaman",
                                    "(No column name)": "1448"
                                },
                                {
                                    "name": "Buster",
                                    "(No column name)": "1354"
                                },
                                {
                                    "name": "Azores",
                                    "(No column name)": "815"
                                },
                                {
                                    "name": "Threepwood",
                                    "(No column name)": "686"
                                },
                                {
                                    "name": "John McDonnell",
                                    "(No column name)": "452"
                                },
                                {
                                    "name": "St. Catherine",
                                    "(No column name)": "415"
                                },
                                {
                                    "name": "Aberdeen",
                                    "(No column name)": "169"
                                }
                            ]
                        },
                        "text/html": [
                            "<table>",
                            "<tr><th>name</th><th>(No column name)</th></tr>",
                            "<tr><td>Atlantis</td><td>82192</td></tr>",
                            "<tr><td>Seagull</td><td>79692</td></tr>",
                            "<tr><td>Magellan</td><td>17340</td></tr>",
                            "<tr><td>Rio de Janeiro</td><td>3339</td></tr>",
                            "<tr><td>Shaman</td><td>1448</td></tr>",
                            "<tr><td>Buster</td><td>1354</td></tr>",
                            "<tr><td>Azores</td><td>815</td></tr>",
                            "<tr><td>Threepwood</td><td>686</td></tr>",
                            "<tr><td>John McDonnell</td><td>452</td></tr>",
                            "<tr><td>St. Catherine</td><td>415</td></tr>",
                            "<tr><td>Aberdeen</td><td>169</td></tr>",
                            "</table>"
                        ]
                    }
                }
            ],
            "execution_count": 5
        },
        {
            "cell_type": "markdown",
            "source": [
                "Wrapping up, we just saw how SQL can be used to answer a few questions about the activities of a small or medium sized company. Of course, we can do way more with SQL alone, or combining it with Python or tools like Power BI."
            ],
            "metadata": {
                "azdata_cell_guid": "3a8d05d4-746e-4036-83a4-37bdf8a11aa0"
            },
            "attachments": {}
        }
    ]
}